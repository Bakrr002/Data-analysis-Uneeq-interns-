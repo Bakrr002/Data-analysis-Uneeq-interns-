{
 "cells": [
  {
   "cell_type": "markdown",
   "metadata": {
    "id": "rYTxqi4KCWar"
   },
   "source": [
    "#Import Data"
   ]
  },
  {
   "cell_type": "code",
   "execution_count": 3,
   "metadata": {
    "id": "x9wH6m6tSMbx"
   },
   "outputs": [],
   "source": [
    "import pandas as pd\n",
    "import numpy as np\n",
    "import matplotlib.pyplot as plt\n",
    "from matplotlib import style\n",
    "import seaborn as sns\n",
    "%matplotlib inline"
   ]
  },
  {
   "cell_type": "code",
   "execution_count": 4,
   "metadata": {
    "id": "9ndaGOHISvOv"
   },
   "outputs": [],
   "source": [
    "df = pd.read_csv( r\"C:\\Users\\ABO-BAKR\\Desktop\\projects\\data analysis\\task 3 netflix\\netflix_titles.csv\")\n"
   ]
  },
  {
   "cell_type": "code",
   "execution_count": 5,
   "metadata": {
    "colab": {
     "base_uri": "https://localhost:8080/",
     "height": 432
    },
    "id": "Z5gqz3ous8ns",
    "outputId": "5c796ad8-23e3-4155-e8aa-3b4bda60e5ef"
   },
   "outputs": [
    {
     "data": {
      "text/html": [
       "<div>\n",
       "<style scoped>\n",
       "    .dataframe tbody tr th:only-of-type {\n",
       "        vertical-align: middle;\n",
       "    }\n",
       "\n",
       "    .dataframe tbody tr th {\n",
       "        vertical-align: top;\n",
       "    }\n",
       "\n",
       "    .dataframe thead th {\n",
       "        text-align: right;\n",
       "    }\n",
       "</style>\n",
       "<table border=\"1\" class=\"dataframe\">\n",
       "  <thead>\n",
       "    <tr style=\"text-align: right;\">\n",
       "      <th></th>\n",
       "      <th>show_id</th>\n",
       "      <th>type</th>\n",
       "      <th>title</th>\n",
       "      <th>director</th>\n",
       "      <th>cast</th>\n",
       "      <th>country</th>\n",
       "      <th>date_added</th>\n",
       "      <th>release_year</th>\n",
       "      <th>rating</th>\n",
       "      <th>duration</th>\n",
       "      <th>listed_in</th>\n",
       "      <th>description</th>\n",
       "    </tr>\n",
       "  </thead>\n",
       "  <tbody>\n",
       "    <tr>\n",
       "      <th>0</th>\n",
       "      <td>s1</td>\n",
       "      <td>Movie</td>\n",
       "      <td>Dick Johnson Is Dead</td>\n",
       "      <td>Kirsten Johnson</td>\n",
       "      <td>NaN</td>\n",
       "      <td>United States</td>\n",
       "      <td>25-Sep-21</td>\n",
       "      <td>2020</td>\n",
       "      <td>PG-13</td>\n",
       "      <td>90 min</td>\n",
       "      <td>Documentaries</td>\n",
       "      <td>As her father nears the end of his life, filmm...</td>\n",
       "    </tr>\n",
       "    <tr>\n",
       "      <th>1</th>\n",
       "      <td>s2</td>\n",
       "      <td>TV Show</td>\n",
       "      <td>Blood &amp; Water</td>\n",
       "      <td>NaN</td>\n",
       "      <td>Ama Qamata, Khosi Ngema, Gail Mabalane, Thaban...</td>\n",
       "      <td>South Africa</td>\n",
       "      <td>24-Sep-21</td>\n",
       "      <td>2021</td>\n",
       "      <td>TV-MA</td>\n",
       "      <td>2 Seasons</td>\n",
       "      <td>International TV Shows, TV Dramas, TV Mysteries</td>\n",
       "      <td>After crossing paths at a party, a Cape Town t...</td>\n",
       "    </tr>\n",
       "    <tr>\n",
       "      <th>2</th>\n",
       "      <td>s3</td>\n",
       "      <td>TV Show</td>\n",
       "      <td>Ganglands</td>\n",
       "      <td>Julien Leclercq</td>\n",
       "      <td>Sami Bouajila, Tracy Gotoas, Samuel Jouy, Nabi...</td>\n",
       "      <td>NaN</td>\n",
       "      <td>24-Sep-21</td>\n",
       "      <td>2021</td>\n",
       "      <td>TV-MA</td>\n",
       "      <td>1 Season</td>\n",
       "      <td>Crime TV Shows, International TV Shows, TV Act...</td>\n",
       "      <td>To protect his family from a powerful drug lor...</td>\n",
       "    </tr>\n",
       "    <tr>\n",
       "      <th>3</th>\n",
       "      <td>s4</td>\n",
       "      <td>TV Show</td>\n",
       "      <td>Jailbirds New Orleans</td>\n",
       "      <td>NaN</td>\n",
       "      <td>NaN</td>\n",
       "      <td>NaN</td>\n",
       "      <td>24-Sep-21</td>\n",
       "      <td>2021</td>\n",
       "      <td>TV-MA</td>\n",
       "      <td>1 Season</td>\n",
       "      <td>Docuseries, Reality TV</td>\n",
       "      <td>Feuds, flirtations and toilet talk go down amo...</td>\n",
       "    </tr>\n",
       "    <tr>\n",
       "      <th>4</th>\n",
       "      <td>s5</td>\n",
       "      <td>TV Show</td>\n",
       "      <td>Kota Factory</td>\n",
       "      <td>NaN</td>\n",
       "      <td>Mayur More, Jitendra Kumar, Ranjan Raj, Alam K...</td>\n",
       "      <td>India</td>\n",
       "      <td>24-Sep-21</td>\n",
       "      <td>2021</td>\n",
       "      <td>TV-MA</td>\n",
       "      <td>2 Seasons</td>\n",
       "      <td>International TV Shows, Romantic TV Shows, TV ...</td>\n",
       "      <td>In a city of coaching centers known to train I...</td>\n",
       "    </tr>\n",
       "  </tbody>\n",
       "</table>\n",
       "</div>"
      ],
      "text/plain": [
       "  show_id     type                  title         director  \\\n",
       "0      s1    Movie   Dick Johnson Is Dead  Kirsten Johnson   \n",
       "1      s2  TV Show          Blood & Water              NaN   \n",
       "2      s3  TV Show              Ganglands  Julien Leclercq   \n",
       "3      s4  TV Show  Jailbirds New Orleans              NaN   \n",
       "4      s5  TV Show           Kota Factory              NaN   \n",
       "\n",
       "                                                cast        country  \\\n",
       "0                                                NaN  United States   \n",
       "1  Ama Qamata, Khosi Ngema, Gail Mabalane, Thaban...   South Africa   \n",
       "2  Sami Bouajila, Tracy Gotoas, Samuel Jouy, Nabi...            NaN   \n",
       "3                                                NaN            NaN   \n",
       "4  Mayur More, Jitendra Kumar, Ranjan Raj, Alam K...          India   \n",
       "\n",
       "  date_added  release_year rating   duration  \\\n",
       "0  25-Sep-21          2020  PG-13     90 min   \n",
       "1  24-Sep-21          2021  TV-MA  2 Seasons   \n",
       "2  24-Sep-21          2021  TV-MA   1 Season   \n",
       "3  24-Sep-21          2021  TV-MA   1 Season   \n",
       "4  24-Sep-21          2021  TV-MA  2 Seasons   \n",
       "\n",
       "                                           listed_in  \\\n",
       "0                                      Documentaries   \n",
       "1    International TV Shows, TV Dramas, TV Mysteries   \n",
       "2  Crime TV Shows, International TV Shows, TV Act...   \n",
       "3                             Docuseries, Reality TV   \n",
       "4  International TV Shows, Romantic TV Shows, TV ...   \n",
       "\n",
       "                                         description  \n",
       "0  As her father nears the end of his life, filmm...  \n",
       "1  After crossing paths at a party, a Cape Town t...  \n",
       "2  To protect his family from a powerful drug lor...  \n",
       "3  Feuds, flirtations and toilet talk go down amo...  \n",
       "4  In a city of coaching centers known to train I...  "
      ]
     },
     "execution_count": 5,
     "metadata": {},
     "output_type": "execute_result"
    }
   ],
   "source": [
    "df.head()"
   ]
  },
  {
   "cell_type": "markdown",
   "metadata": {
    "id": "5GWLBPCmCb21"
   },
   "source": [
    "#Data exploration\n"
   ]
  },
  {
   "cell_type": "code",
   "execution_count": 6,
   "metadata": {
    "colab": {
     "base_uri": "https://localhost:8080/"
    },
    "id": "t_KQok40TS05",
    "outputId": "c057ce69-40e4-4cc3-a480-749598f2aa5c"
   },
   "outputs": [
    {
     "name": "stdout",
     "output_type": "stream",
     "text": [
      "<class 'pandas.core.frame.DataFrame'>\n",
      "RangeIndex: 8807 entries, 0 to 8806\n",
      "Data columns (total 12 columns):\n",
      " #   Column        Non-Null Count  Dtype \n",
      "---  ------        --------------  ----- \n",
      " 0   show_id       8807 non-null   object\n",
      " 1   type          8807 non-null   object\n",
      " 2   title         8807 non-null   object\n",
      " 3   director      6173 non-null   object\n",
      " 4   cast          7982 non-null   object\n",
      " 5   country       7976 non-null   object\n",
      " 6   date_added    8797 non-null   object\n",
      " 7   release_year  8807 non-null   int64 \n",
      " 8   rating        8803 non-null   object\n",
      " 9   duration      8804 non-null   object\n",
      " 10  listed_in     8807 non-null   object\n",
      " 11  description   8807 non-null   object\n",
      "dtypes: int64(1), object(11)\n",
      "memory usage: 825.8+ KB\n"
     ]
    }
   ],
   "source": [
    "df.info()"
   ]
  },
  {
   "cell_type": "code",
   "execution_count": 7,
   "metadata": {
    "colab": {
     "base_uri": "https://localhost:8080/",
     "height": 300
    },
    "id": "_c1exJ0nSA7f",
    "outputId": "9082074b-5fa1-46cf-f583-3363a3ef6d04"
   },
   "outputs": [
    {
     "data": {
      "text/html": [
       "<div>\n",
       "<style scoped>\n",
       "    .dataframe tbody tr th:only-of-type {\n",
       "        vertical-align: middle;\n",
       "    }\n",
       "\n",
       "    .dataframe tbody tr th {\n",
       "        vertical-align: top;\n",
       "    }\n",
       "\n",
       "    .dataframe thead th {\n",
       "        text-align: right;\n",
       "    }\n",
       "</style>\n",
       "<table border=\"1\" class=\"dataframe\">\n",
       "  <thead>\n",
       "    <tr style=\"text-align: right;\">\n",
       "      <th></th>\n",
       "      <th>release_year</th>\n",
       "    </tr>\n",
       "  </thead>\n",
       "  <tbody>\n",
       "    <tr>\n",
       "      <th>count</th>\n",
       "      <td>8807.000000</td>\n",
       "    </tr>\n",
       "    <tr>\n",
       "      <th>mean</th>\n",
       "      <td>2014.180198</td>\n",
       "    </tr>\n",
       "    <tr>\n",
       "      <th>std</th>\n",
       "      <td>8.819312</td>\n",
       "    </tr>\n",
       "    <tr>\n",
       "      <th>min</th>\n",
       "      <td>1925.000000</td>\n",
       "    </tr>\n",
       "    <tr>\n",
       "      <th>25%</th>\n",
       "      <td>2013.000000</td>\n",
       "    </tr>\n",
       "    <tr>\n",
       "      <th>50%</th>\n",
       "      <td>2017.000000</td>\n",
       "    </tr>\n",
       "    <tr>\n",
       "      <th>75%</th>\n",
       "      <td>2019.000000</td>\n",
       "    </tr>\n",
       "    <tr>\n",
       "      <th>max</th>\n",
       "      <td>2021.000000</td>\n",
       "    </tr>\n",
       "  </tbody>\n",
       "</table>\n",
       "</div>"
      ],
      "text/plain": [
       "       release_year\n",
       "count   8807.000000\n",
       "mean    2014.180198\n",
       "std        8.819312\n",
       "min     1925.000000\n",
       "25%     2013.000000\n",
       "50%     2017.000000\n",
       "75%     2019.000000\n",
       "max     2021.000000"
      ]
     },
     "execution_count": 7,
     "metadata": {},
     "output_type": "execute_result"
    }
   ],
   "source": [
    "df.describe()"
   ]
  },
  {
   "cell_type": "code",
   "execution_count": 8,
   "metadata": {
    "colab": {
     "base_uri": "https://localhost:8080/",
     "height": 1000
    },
    "id": "gLGL7Njez--s",
    "outputId": "86f24036-ad02-4754-b5a7-9c419be4d221"
   },
   "outputs": [
    {
     "data": {
      "text/plain": [
       "country\n",
       "United States                    2818\n",
       "India                             972\n",
       "United Kingdom                    419\n",
       "Japan                             245\n",
       "South Korea                       199\n",
       "Canada                            181\n",
       "Spain                             145\n",
       "France                            124\n",
       "Mexico                            110\n",
       "Egypt                             106\n",
       "Turkey                            105\n",
       "Nigeria                            95\n",
       "Australia                          87\n",
       "Taiwan                             81\n",
       "Indonesia                          79\n",
       "Brazil                             77\n",
       "Philippines                        75\n",
       "United Kingdom, United States      75\n",
       "United States, Canada              73\n",
       "Germany                            67\n",
       "China                              66\n",
       "Thailand                           61\n",
       "Argentina                          56\n",
       "Hong Kong                          53\n",
       "United States, United Kingdom      47\n",
       "Italy                              45\n",
       "Canada, United States              45\n",
       "Colombia                           35\n",
       "South Africa                       30\n",
       "France, Belgium                    27\n",
       "Poland                             24\n",
       "Singapore                          23\n",
       "Malaysia                           22\n",
       "Netherlands                        19\n",
       "Pakistan                           18\n",
       "United States, Germany             17\n",
       "United States, Japan               16\n",
       "United States, France              16\n",
       "Hong Kong, China                   16\n",
       "Lebanon                            15\n",
       "Russia                             15\n",
       "Chile                              14\n",
       "United Arab Emirates               14\n",
       "China, Hong Kong                   14\n",
       "United States, Mexico              14\n",
       "Denmark                            13\n",
       "Australia, United States           13\n",
       "Mexico, United States              13\n",
       "Sweden                             13\n",
       "Germany, United States             13\n",
       "Name: count, dtype: int64"
      ]
     },
     "execution_count": 8,
     "metadata": {},
     "output_type": "execute_result"
    }
   ],
   "source": [
    "df['country'].value_counts().head(50)"
   ]
  },
  {
   "cell_type": "code",
   "execution_count": 9,
   "metadata": {
    "colab": {
     "base_uri": "https://localhost:8080/",
     "height": 283
    },
    "id": "VzoB59zO2FC0",
    "outputId": "bfe17b15-52de-40ac-e018-b8e435d3691b"
   },
   "outputs": [
    {
     "data": {
      "text/html": [
       "<div>\n",
       "<style scoped>\n",
       "    .dataframe tbody tr th:only-of-type {\n",
       "        vertical-align: middle;\n",
       "    }\n",
       "\n",
       "    .dataframe tbody tr th {\n",
       "        vertical-align: top;\n",
       "    }\n",
       "\n",
       "    .dataframe thead th {\n",
       "        text-align: right;\n",
       "    }\n",
       "</style>\n",
       "<table border=\"1\" class=\"dataframe\">\n",
       "  <thead>\n",
       "    <tr style=\"text-align: right;\">\n",
       "      <th></th>\n",
       "      <th>show_id</th>\n",
       "      <th>type</th>\n",
       "      <th>title</th>\n",
       "      <th>director</th>\n",
       "      <th>cast</th>\n",
       "      <th>country</th>\n",
       "      <th>date_added</th>\n",
       "      <th>release_year</th>\n",
       "      <th>rating</th>\n",
       "      <th>duration</th>\n",
       "      <th>listed_in</th>\n",
       "      <th>description</th>\n",
       "    </tr>\n",
       "  </thead>\n",
       "  <tbody>\n",
       "    <tr>\n",
       "      <th>5964</th>\n",
       "      <td>s5965</td>\n",
       "      <td>TV Show</td>\n",
       "      <td>9-Feb</td>\n",
       "      <td>NaN</td>\n",
       "      <td>Shahd El Yaseen, Shaila Sabt, Hala, Hanadi Al-...</td>\n",
       "      <td>NaN</td>\n",
       "      <td>20-Mar-19</td>\n",
       "      <td>2018</td>\n",
       "      <td>TV-14</td>\n",
       "      <td>1 Season</td>\n",
       "      <td>International TV Shows, TV Dramas</td>\n",
       "      <td>As a psychology professor faces Alzheimer's, h...</td>\n",
       "    </tr>\n",
       "    <tr>\n",
       "      <th>5965</th>\n",
       "      <td>s5966</td>\n",
       "      <td>Movie</td>\n",
       "      <td>22-Jul</td>\n",
       "      <td>Paul Greengrass</td>\n",
       "      <td>Anders Danielsen Lie, Jon Øigarden, Jonas Stra...</td>\n",
       "      <td>Norway, Iceland, United States</td>\n",
       "      <td>10-Oct-18</td>\n",
       "      <td>2018</td>\n",
       "      <td>R</td>\n",
       "      <td>144 min</td>\n",
       "      <td>Dramas, Thrillers</td>\n",
       "      <td>After devastating terror attacks in Norway, a ...</td>\n",
       "    </tr>\n",
       "    <tr>\n",
       "      <th>5966</th>\n",
       "      <td>s5967</td>\n",
       "      <td>Movie</td>\n",
       "      <td>15-Aug</td>\n",
       "      <td>Swapnaneel Jayakar</td>\n",
       "      <td>Rahul Pethe, Mrunmayee Deshpande, Adinath Koth...</td>\n",
       "      <td>India</td>\n",
       "      <td>29-Mar-19</td>\n",
       "      <td>2019</td>\n",
       "      <td>TV-14</td>\n",
       "      <td>124 min</td>\n",
       "      <td>Comedies, Dramas, Independent Movies</td>\n",
       "      <td>On India's Independence Day, a zany mishap in ...</td>\n",
       "    </tr>\n",
       "  </tbody>\n",
       "</table>\n",
       "</div>"
      ],
      "text/plain": [
       "     show_id     type   title            director  \\\n",
       "5964   s5965  TV Show   9-Feb                 NaN   \n",
       "5965   s5966    Movie  22-Jul     Paul Greengrass   \n",
       "5966   s5967    Movie  15-Aug  Swapnaneel Jayakar   \n",
       "\n",
       "                                                   cast  \\\n",
       "5964  Shahd El Yaseen, Shaila Sabt, Hala, Hanadi Al-...   \n",
       "5965  Anders Danielsen Lie, Jon Øigarden, Jonas Stra...   \n",
       "5966  Rahul Pethe, Mrunmayee Deshpande, Adinath Koth...   \n",
       "\n",
       "                             country date_added  release_year rating  \\\n",
       "5964                             NaN  20-Mar-19          2018  TV-14   \n",
       "5965  Norway, Iceland, United States  10-Oct-18          2018      R   \n",
       "5966                           India  29-Mar-19          2019  TV-14   \n",
       "\n",
       "      duration                             listed_in  \\\n",
       "5964  1 Season     International TV Shows, TV Dramas   \n",
       "5965   144 min                     Dramas, Thrillers   \n",
       "5966   124 min  Comedies, Dramas, Independent Movies   \n",
       "\n",
       "                                            description  \n",
       "5964  As a psychology professor faces Alzheimer's, h...  \n",
       "5965  After devastating terror attacks in Norway, a ...  \n",
       "5966  On India's Independence Day, a zany mishap in ...  "
      ]
     },
     "execution_count": 9,
     "metadata": {},
     "output_type": "execute_result"
    }
   ],
   "source": [
    "df[df['title'].duplicated() == True]"
   ]
  },
  {
   "cell_type": "markdown",
   "metadata": {
    "id": "Nd49abDMCpOt"
   },
   "source": [
    "#Data cleaning"
   ]
  },
  {
   "cell_type": "code",
   "execution_count": 10,
   "metadata": {
    "id": "urwqkoMo29n0"
   },
   "outputs": [],
   "source": [
    "df.drop([5964,5965,5966],inplace=True)"
   ]
  },
  {
   "cell_type": "code",
   "execution_count": 11,
   "metadata": {
    "id": "tx_RqVy2-Qlf"
   },
   "outputs": [],
   "source": [
    "df[[\"country1\",\"country2\",\"country3\",\"country4\",\"country5\",\"country6\",\"country7\",\"country8\",\"country9\",\"country10\",\"country11\",\"country12\"]]=df['country'].str.split(\",\",expand= True)"
   ]
  },
  {
   "cell_type": "code",
   "execution_count": 12,
   "metadata": {
    "colab": {
     "base_uri": "https://localhost:8080/"
    },
    "id": "iqi5kntKjq1F",
    "outputId": "16b85643-313f-46b2-d54f-84d5126a8ad5"
   },
   "outputs": [
    {
     "name": "stdout",
     "output_type": "stream",
     "text": [
      "<class 'pandas.core.frame.DataFrame'>\n",
      "Index: 8804 entries, 0 to 8806\n",
      "Data columns (total 24 columns):\n",
      " #   Column        Non-Null Count  Dtype \n",
      "---  ------        --------------  ----- \n",
      " 0   show_id       8804 non-null   object\n",
      " 1   type          8804 non-null   object\n",
      " 2   title         8804 non-null   object\n",
      " 3   director      6171 non-null   object\n",
      " 4   cast          7979 non-null   object\n",
      " 5   country       7974 non-null   object\n",
      " 6   date_added    8794 non-null   object\n",
      " 7   release_year  8804 non-null   int64 \n",
      " 8   rating        8800 non-null   object\n",
      " 9   duration      8801 non-null   object\n",
      " 10  listed_in     8804 non-null   object\n",
      " 11  description   8804 non-null   object\n",
      " 12  country1      7974 non-null   object\n",
      " 13  country2      1319 non-null   object\n",
      " 14  country3      446 non-null    object\n",
      " 15  country4      174 non-null    object\n",
      " 16  country5      60 non-null     object\n",
      " 17  country6      23 non-null     object\n",
      " 18  country7      9 non-null      object\n",
      " 19  country8      4 non-null      object\n",
      " 20  country9      2 non-null      object\n",
      " 21  country10     2 non-null      object\n",
      " 22  country11     1 non-null      object\n",
      " 23  country12     1 non-null      object\n",
      "dtypes: int64(1), object(23)\n",
      "memory usage: 1.7+ MB\n"
     ]
    }
   ],
   "source": [
    "df.info()"
   ]
  },
  {
   "cell_type": "code",
   "execution_count": 13,
   "metadata": {
    "id": "TILqRacp1V8_"
   },
   "outputs": [],
   "source": [
    "df.drop(columns=['country12','country11','country10','country9','country8','country7'],inplace=True)"
   ]
  },
  {
   "cell_type": "code",
   "execution_count": 14,
   "metadata": {
    "id": "_Y67Fd7GjypU"
   },
   "outputs": [],
   "source": [
    "df=pd.melt(df,id_vars=['show_id','type','title','director','cast','date_added','release_year','rating','duration','listed_in','description'],value_vars=[\"country1\",\"country2\",\"country3\",\"country4\",\"country5\",\"country6\"],var_name=\"country\")"
   ]
  },
  {
   "cell_type": "code",
   "execution_count": 15,
   "metadata": {
    "colab": {
     "base_uri": "https://localhost:8080/",
     "height": 1000
    },
    "id": "xRBt650EqgAx",
    "outputId": "20a43b47-13f8-46a4-b36c-0cc3c52ed349"
   },
   "outputs": [
    {
     "data": {
      "text/html": [
       "<div>\n",
       "<style scoped>\n",
       "    .dataframe tbody tr th:only-of-type {\n",
       "        vertical-align: middle;\n",
       "    }\n",
       "\n",
       "    .dataframe tbody tr th {\n",
       "        vertical-align: top;\n",
       "    }\n",
       "\n",
       "    .dataframe thead th {\n",
       "        text-align: right;\n",
       "    }\n",
       "</style>\n",
       "<table border=\"1\" class=\"dataframe\">\n",
       "  <thead>\n",
       "    <tr style=\"text-align: right;\">\n",
       "      <th></th>\n",
       "      <th>show_id</th>\n",
       "      <th>type</th>\n",
       "      <th>title</th>\n",
       "      <th>director</th>\n",
       "      <th>cast</th>\n",
       "      <th>date_added</th>\n",
       "      <th>release_year</th>\n",
       "      <th>rating</th>\n",
       "      <th>duration</th>\n",
       "      <th>listed_in</th>\n",
       "      <th>description</th>\n",
       "      <th>country</th>\n",
       "      <th>value</th>\n",
       "    </tr>\n",
       "  </thead>\n",
       "  <tbody>\n",
       "    <tr>\n",
       "      <th>0</th>\n",
       "      <td>s1</td>\n",
       "      <td>Movie</td>\n",
       "      <td>Dick Johnson Is Dead</td>\n",
       "      <td>Kirsten Johnson</td>\n",
       "      <td>NaN</td>\n",
       "      <td>25-Sep-21</td>\n",
       "      <td>2020</td>\n",
       "      <td>PG-13</td>\n",
       "      <td>90 min</td>\n",
       "      <td>Documentaries</td>\n",
       "      <td>As her father nears the end of his life, filmm...</td>\n",
       "      <td>country1</td>\n",
       "      <td>United States</td>\n",
       "    </tr>\n",
       "    <tr>\n",
       "      <th>1</th>\n",
       "      <td>s2</td>\n",
       "      <td>TV Show</td>\n",
       "      <td>Blood &amp; Water</td>\n",
       "      <td>NaN</td>\n",
       "      <td>Ama Qamata, Khosi Ngema, Gail Mabalane, Thaban...</td>\n",
       "      <td>24-Sep-21</td>\n",
       "      <td>2021</td>\n",
       "      <td>TV-MA</td>\n",
       "      <td>2 Seasons</td>\n",
       "      <td>International TV Shows, TV Dramas, TV Mysteries</td>\n",
       "      <td>After crossing paths at a party, a Cape Town t...</td>\n",
       "      <td>country1</td>\n",
       "      <td>South Africa</td>\n",
       "    </tr>\n",
       "    <tr>\n",
       "      <th>2</th>\n",
       "      <td>s3</td>\n",
       "      <td>TV Show</td>\n",
       "      <td>Ganglands</td>\n",
       "      <td>Julien Leclercq</td>\n",
       "      <td>Sami Bouajila, Tracy Gotoas, Samuel Jouy, Nabi...</td>\n",
       "      <td>24-Sep-21</td>\n",
       "      <td>2021</td>\n",
       "      <td>TV-MA</td>\n",
       "      <td>1 Season</td>\n",
       "      <td>Crime TV Shows, International TV Shows, TV Act...</td>\n",
       "      <td>To protect his family from a powerful drug lor...</td>\n",
       "      <td>country1</td>\n",
       "      <td>NaN</td>\n",
       "    </tr>\n",
       "    <tr>\n",
       "      <th>3</th>\n",
       "      <td>s4</td>\n",
       "      <td>TV Show</td>\n",
       "      <td>Jailbirds New Orleans</td>\n",
       "      <td>NaN</td>\n",
       "      <td>NaN</td>\n",
       "      <td>24-Sep-21</td>\n",
       "      <td>2021</td>\n",
       "      <td>TV-MA</td>\n",
       "      <td>1 Season</td>\n",
       "      <td>Docuseries, Reality TV</td>\n",
       "      <td>Feuds, flirtations and toilet talk go down amo...</td>\n",
       "      <td>country1</td>\n",
       "      <td>NaN</td>\n",
       "    </tr>\n",
       "    <tr>\n",
       "      <th>4</th>\n",
       "      <td>s5</td>\n",
       "      <td>TV Show</td>\n",
       "      <td>Kota Factory</td>\n",
       "      <td>NaN</td>\n",
       "      <td>Mayur More, Jitendra Kumar, Ranjan Raj, Alam K...</td>\n",
       "      <td>24-Sep-21</td>\n",
       "      <td>2021</td>\n",
       "      <td>TV-MA</td>\n",
       "      <td>2 Seasons</td>\n",
       "      <td>International TV Shows, Romantic TV Shows, TV ...</td>\n",
       "      <td>In a city of coaching centers known to train I...</td>\n",
       "      <td>country1</td>\n",
       "      <td>India</td>\n",
       "    </tr>\n",
       "    <tr>\n",
       "      <th>...</th>\n",
       "      <td>...</td>\n",
       "      <td>...</td>\n",
       "      <td>...</td>\n",
       "      <td>...</td>\n",
       "      <td>...</td>\n",
       "      <td>...</td>\n",
       "      <td>...</td>\n",
       "      <td>...</td>\n",
       "      <td>...</td>\n",
       "      <td>...</td>\n",
       "      <td>...</td>\n",
       "      <td>...</td>\n",
       "      <td>...</td>\n",
       "    </tr>\n",
       "    <tr>\n",
       "      <th>52819</th>\n",
       "      <td>s8803</td>\n",
       "      <td>Movie</td>\n",
       "      <td>Zodiac</td>\n",
       "      <td>David Fincher</td>\n",
       "      <td>Mark Ruffalo, Jake Gyllenhaal, Robert Downey J...</td>\n",
       "      <td>20-Nov-19</td>\n",
       "      <td>2007</td>\n",
       "      <td>R</td>\n",
       "      <td>158 min</td>\n",
       "      <td>Cult Movies, Dramas, Thrillers</td>\n",
       "      <td>A political cartoonist, a crime reporter and a...</td>\n",
       "      <td>country6</td>\n",
       "      <td>None</td>\n",
       "    </tr>\n",
       "    <tr>\n",
       "      <th>52820</th>\n",
       "      <td>s8804</td>\n",
       "      <td>TV Show</td>\n",
       "      <td>Zombie Dumb</td>\n",
       "      <td>NaN</td>\n",
       "      <td>NaN</td>\n",
       "      <td>1-Jul-19</td>\n",
       "      <td>2018</td>\n",
       "      <td>TV-Y7</td>\n",
       "      <td>2 Seasons</td>\n",
       "      <td>Kids' TV, Korean TV Shows, TV Comedies</td>\n",
       "      <td>While living alone in a spooky town, a young g...</td>\n",
       "      <td>country6</td>\n",
       "      <td>NaN</td>\n",
       "    </tr>\n",
       "    <tr>\n",
       "      <th>52821</th>\n",
       "      <td>s8805</td>\n",
       "      <td>Movie</td>\n",
       "      <td>Zombieland</td>\n",
       "      <td>Ruben Fleischer</td>\n",
       "      <td>Jesse Eisenberg, Woody Harrelson, Emma Stone, ...</td>\n",
       "      <td>1-Nov-19</td>\n",
       "      <td>2009</td>\n",
       "      <td>R</td>\n",
       "      <td>88 min</td>\n",
       "      <td>Comedies, Horror Movies</td>\n",
       "      <td>Looking to survive in a world taken over by zo...</td>\n",
       "      <td>country6</td>\n",
       "      <td>None</td>\n",
       "    </tr>\n",
       "    <tr>\n",
       "      <th>52822</th>\n",
       "      <td>s8806</td>\n",
       "      <td>Movie</td>\n",
       "      <td>Zoom</td>\n",
       "      <td>Peter Hewitt</td>\n",
       "      <td>Tim Allen, Courteney Cox, Chevy Chase, Kate Ma...</td>\n",
       "      <td>11-Jan-20</td>\n",
       "      <td>2006</td>\n",
       "      <td>PG</td>\n",
       "      <td>88 min</td>\n",
       "      <td>Children &amp; Family Movies, Comedies</td>\n",
       "      <td>Dragged from civilian life, a former superhero...</td>\n",
       "      <td>country6</td>\n",
       "      <td>None</td>\n",
       "    </tr>\n",
       "    <tr>\n",
       "      <th>52823</th>\n",
       "      <td>s8807</td>\n",
       "      <td>Movie</td>\n",
       "      <td>Zubaan</td>\n",
       "      <td>Mozez Singh</td>\n",
       "      <td>Vicky Kaushal, Sarah-Jane Dias, Raaghav Chanan...</td>\n",
       "      <td>2-Mar-19</td>\n",
       "      <td>2015</td>\n",
       "      <td>TV-14</td>\n",
       "      <td>111 min</td>\n",
       "      <td>Dramas, International Movies, Music &amp; Musicals</td>\n",
       "      <td>A scrappy but poor boy worms his way into a ty...</td>\n",
       "      <td>country6</td>\n",
       "      <td>None</td>\n",
       "    </tr>\n",
       "  </tbody>\n",
       "</table>\n",
       "<p>52824 rows × 13 columns</p>\n",
       "</div>"
      ],
      "text/plain": [
       "      show_id     type                  title         director  \\\n",
       "0          s1    Movie   Dick Johnson Is Dead  Kirsten Johnson   \n",
       "1          s2  TV Show          Blood & Water              NaN   \n",
       "2          s3  TV Show              Ganglands  Julien Leclercq   \n",
       "3          s4  TV Show  Jailbirds New Orleans              NaN   \n",
       "4          s5  TV Show           Kota Factory              NaN   \n",
       "...       ...      ...                    ...              ...   \n",
       "52819   s8803    Movie                 Zodiac    David Fincher   \n",
       "52820   s8804  TV Show            Zombie Dumb              NaN   \n",
       "52821   s8805    Movie             Zombieland  Ruben Fleischer   \n",
       "52822   s8806    Movie                   Zoom     Peter Hewitt   \n",
       "52823   s8807    Movie                 Zubaan      Mozez Singh   \n",
       "\n",
       "                                                    cast date_added  \\\n",
       "0                                                    NaN  25-Sep-21   \n",
       "1      Ama Qamata, Khosi Ngema, Gail Mabalane, Thaban...  24-Sep-21   \n",
       "2      Sami Bouajila, Tracy Gotoas, Samuel Jouy, Nabi...  24-Sep-21   \n",
       "3                                                    NaN  24-Sep-21   \n",
       "4      Mayur More, Jitendra Kumar, Ranjan Raj, Alam K...  24-Sep-21   \n",
       "...                                                  ...        ...   \n",
       "52819  Mark Ruffalo, Jake Gyllenhaal, Robert Downey J...  20-Nov-19   \n",
       "52820                                                NaN   1-Jul-19   \n",
       "52821  Jesse Eisenberg, Woody Harrelson, Emma Stone, ...   1-Nov-19   \n",
       "52822  Tim Allen, Courteney Cox, Chevy Chase, Kate Ma...  11-Jan-20   \n",
       "52823  Vicky Kaushal, Sarah-Jane Dias, Raaghav Chanan...   2-Mar-19   \n",
       "\n",
       "       release_year rating   duration  \\\n",
       "0              2020  PG-13     90 min   \n",
       "1              2021  TV-MA  2 Seasons   \n",
       "2              2021  TV-MA   1 Season   \n",
       "3              2021  TV-MA   1 Season   \n",
       "4              2021  TV-MA  2 Seasons   \n",
       "...             ...    ...        ...   \n",
       "52819          2007      R    158 min   \n",
       "52820          2018  TV-Y7  2 Seasons   \n",
       "52821          2009      R     88 min   \n",
       "52822          2006     PG     88 min   \n",
       "52823          2015  TV-14    111 min   \n",
       "\n",
       "                                               listed_in  \\\n",
       "0                                          Documentaries   \n",
       "1        International TV Shows, TV Dramas, TV Mysteries   \n",
       "2      Crime TV Shows, International TV Shows, TV Act...   \n",
       "3                                 Docuseries, Reality TV   \n",
       "4      International TV Shows, Romantic TV Shows, TV ...   \n",
       "...                                                  ...   \n",
       "52819                     Cult Movies, Dramas, Thrillers   \n",
       "52820             Kids' TV, Korean TV Shows, TV Comedies   \n",
       "52821                            Comedies, Horror Movies   \n",
       "52822                 Children & Family Movies, Comedies   \n",
       "52823     Dramas, International Movies, Music & Musicals   \n",
       "\n",
       "                                             description   country  \\\n",
       "0      As her father nears the end of his life, filmm...  country1   \n",
       "1      After crossing paths at a party, a Cape Town t...  country1   \n",
       "2      To protect his family from a powerful drug lor...  country1   \n",
       "3      Feuds, flirtations and toilet talk go down amo...  country1   \n",
       "4      In a city of coaching centers known to train I...  country1   \n",
       "...                                                  ...       ...   \n",
       "52819  A political cartoonist, a crime reporter and a...  country6   \n",
       "52820  While living alone in a spooky town, a young g...  country6   \n",
       "52821  Looking to survive in a world taken over by zo...  country6   \n",
       "52822  Dragged from civilian life, a former superhero...  country6   \n",
       "52823  A scrappy but poor boy worms his way into a ty...  country6   \n",
       "\n",
       "               value  \n",
       "0      United States  \n",
       "1       South Africa  \n",
       "2                NaN  \n",
       "3                NaN  \n",
       "4              India  \n",
       "...              ...  \n",
       "52819           None  \n",
       "52820            NaN  \n",
       "52821           None  \n",
       "52822           None  \n",
       "52823           None  \n",
       "\n",
       "[52824 rows x 13 columns]"
      ]
     },
     "execution_count": 15,
     "metadata": {},
     "output_type": "execute_result"
    }
   ],
   "source": [
    "df"
   ]
  },
  {
   "cell_type": "code",
   "execution_count": 16,
   "metadata": {
    "id": "46xVurO_q4xG"
   },
   "outputs": [],
   "source": [
    "df[[\"list1\",'list2','list3']]=df['listed_in'].str.split(\",\",expand= True)"
   ]
  },
  {
   "cell_type": "code",
   "execution_count": 17,
   "metadata": {
    "colab": {
     "base_uri": "https://localhost:8080/"
    },
    "id": "BlIkU-blsmxV",
    "outputId": "99ac8ef6-43b7-4baf-9f6f-d1fe283c1a2b"
   },
   "outputs": [
    {
     "name": "stdout",
     "output_type": "stream",
     "text": [
      "<class 'pandas.core.frame.DataFrame'>\n",
      "RangeIndex: 52824 entries, 0 to 52823\n",
      "Data columns (total 16 columns):\n",
      " #   Column        Non-Null Count  Dtype \n",
      "---  ------        --------------  ----- \n",
      " 0   show_id       52824 non-null  object\n",
      " 1   type          52824 non-null  object\n",
      " 2   title         52824 non-null  object\n",
      " 3   director      37026 non-null  object\n",
      " 4   cast          47874 non-null  object\n",
      " 5   date_added    52764 non-null  object\n",
      " 6   release_year  52824 non-null  int64 \n",
      " 7   rating        52800 non-null  object\n",
      " 8   duration      52806 non-null  object\n",
      " 9   listed_in     52824 non-null  object\n",
      " 10  description   52824 non-null  object\n",
      " 11  country       52824 non-null  object\n",
      " 12  value         9996 non-null   object\n",
      " 13  list1         52824 non-null  object\n",
      " 14  list2         40704 non-null  object\n",
      " 15  list3         22368 non-null  object\n",
      "dtypes: int64(1), object(15)\n",
      "memory usage: 6.4+ MB\n"
     ]
    }
   ],
   "source": [
    "df.info()"
   ]
  },
  {
   "cell_type": "code",
   "execution_count": 18,
   "metadata": {
    "id": "wmTahVq5qkZX"
   },
   "outputs": [],
   "source": [
    "df=pd.melt(df,id_vars=['show_id','type','title','director','cast','date_added','release_year','rating','duration','description','country','value'],value_vars=['list1','list2','list3'],value_name='list_value')"
   ]
  },
  {
   "cell_type": "code",
   "execution_count": 19,
   "metadata": {
    "colab": {
     "base_uri": "https://localhost:8080/",
     "height": 1000
    },
    "id": "7u3loDLlu7Yj",
    "outputId": "cf353d7c-1da7-4c52-d2e8-fa96a52aab7c"
   },
   "outputs": [
    {
     "data": {
      "text/html": [
       "<div>\n",
       "<style scoped>\n",
       "    .dataframe tbody tr th:only-of-type {\n",
       "        vertical-align: middle;\n",
       "    }\n",
       "\n",
       "    .dataframe tbody tr th {\n",
       "        vertical-align: top;\n",
       "    }\n",
       "\n",
       "    .dataframe thead th {\n",
       "        text-align: right;\n",
       "    }\n",
       "</style>\n",
       "<table border=\"1\" class=\"dataframe\">\n",
       "  <thead>\n",
       "    <tr style=\"text-align: right;\">\n",
       "      <th></th>\n",
       "      <th>show_id</th>\n",
       "      <th>type</th>\n",
       "      <th>title</th>\n",
       "      <th>director</th>\n",
       "      <th>cast</th>\n",
       "      <th>date_added</th>\n",
       "      <th>release_year</th>\n",
       "      <th>rating</th>\n",
       "      <th>duration</th>\n",
       "      <th>description</th>\n",
       "      <th>country</th>\n",
       "      <th>value</th>\n",
       "      <th>variable</th>\n",
       "      <th>list_value</th>\n",
       "    </tr>\n",
       "  </thead>\n",
       "  <tbody>\n",
       "    <tr>\n",
       "      <th>0</th>\n",
       "      <td>s1</td>\n",
       "      <td>Movie</td>\n",
       "      <td>Dick Johnson Is Dead</td>\n",
       "      <td>Kirsten Johnson</td>\n",
       "      <td>NaN</td>\n",
       "      <td>25-Sep-21</td>\n",
       "      <td>2020</td>\n",
       "      <td>PG-13</td>\n",
       "      <td>90 min</td>\n",
       "      <td>As her father nears the end of his life, filmm...</td>\n",
       "      <td>country1</td>\n",
       "      <td>United States</td>\n",
       "      <td>list1</td>\n",
       "      <td>Documentaries</td>\n",
       "    </tr>\n",
       "    <tr>\n",
       "      <th>1</th>\n",
       "      <td>s2</td>\n",
       "      <td>TV Show</td>\n",
       "      <td>Blood &amp; Water</td>\n",
       "      <td>NaN</td>\n",
       "      <td>Ama Qamata, Khosi Ngema, Gail Mabalane, Thaban...</td>\n",
       "      <td>24-Sep-21</td>\n",
       "      <td>2021</td>\n",
       "      <td>TV-MA</td>\n",
       "      <td>2 Seasons</td>\n",
       "      <td>After crossing paths at a party, a Cape Town t...</td>\n",
       "      <td>country1</td>\n",
       "      <td>South Africa</td>\n",
       "      <td>list1</td>\n",
       "      <td>International TV Shows</td>\n",
       "    </tr>\n",
       "    <tr>\n",
       "      <th>2</th>\n",
       "      <td>s3</td>\n",
       "      <td>TV Show</td>\n",
       "      <td>Ganglands</td>\n",
       "      <td>Julien Leclercq</td>\n",
       "      <td>Sami Bouajila, Tracy Gotoas, Samuel Jouy, Nabi...</td>\n",
       "      <td>24-Sep-21</td>\n",
       "      <td>2021</td>\n",
       "      <td>TV-MA</td>\n",
       "      <td>1 Season</td>\n",
       "      <td>To protect his family from a powerful drug lor...</td>\n",
       "      <td>country1</td>\n",
       "      <td>NaN</td>\n",
       "      <td>list1</td>\n",
       "      <td>Crime TV Shows</td>\n",
       "    </tr>\n",
       "    <tr>\n",
       "      <th>3</th>\n",
       "      <td>s4</td>\n",
       "      <td>TV Show</td>\n",
       "      <td>Jailbirds New Orleans</td>\n",
       "      <td>NaN</td>\n",
       "      <td>NaN</td>\n",
       "      <td>24-Sep-21</td>\n",
       "      <td>2021</td>\n",
       "      <td>TV-MA</td>\n",
       "      <td>1 Season</td>\n",
       "      <td>Feuds, flirtations and toilet talk go down amo...</td>\n",
       "      <td>country1</td>\n",
       "      <td>NaN</td>\n",
       "      <td>list1</td>\n",
       "      <td>Docuseries</td>\n",
       "    </tr>\n",
       "    <tr>\n",
       "      <th>4</th>\n",
       "      <td>s5</td>\n",
       "      <td>TV Show</td>\n",
       "      <td>Kota Factory</td>\n",
       "      <td>NaN</td>\n",
       "      <td>Mayur More, Jitendra Kumar, Ranjan Raj, Alam K...</td>\n",
       "      <td>24-Sep-21</td>\n",
       "      <td>2021</td>\n",
       "      <td>TV-MA</td>\n",
       "      <td>2 Seasons</td>\n",
       "      <td>In a city of coaching centers known to train I...</td>\n",
       "      <td>country1</td>\n",
       "      <td>India</td>\n",
       "      <td>list1</td>\n",
       "      <td>International TV Shows</td>\n",
       "    </tr>\n",
       "    <tr>\n",
       "      <th>...</th>\n",
       "      <td>...</td>\n",
       "      <td>...</td>\n",
       "      <td>...</td>\n",
       "      <td>...</td>\n",
       "      <td>...</td>\n",
       "      <td>...</td>\n",
       "      <td>...</td>\n",
       "      <td>...</td>\n",
       "      <td>...</td>\n",
       "      <td>...</td>\n",
       "      <td>...</td>\n",
       "      <td>...</td>\n",
       "      <td>...</td>\n",
       "      <td>...</td>\n",
       "    </tr>\n",
       "    <tr>\n",
       "      <th>158467</th>\n",
       "      <td>s8803</td>\n",
       "      <td>Movie</td>\n",
       "      <td>Zodiac</td>\n",
       "      <td>David Fincher</td>\n",
       "      <td>Mark Ruffalo, Jake Gyllenhaal, Robert Downey J...</td>\n",
       "      <td>20-Nov-19</td>\n",
       "      <td>2007</td>\n",
       "      <td>R</td>\n",
       "      <td>158 min</td>\n",
       "      <td>A political cartoonist, a crime reporter and a...</td>\n",
       "      <td>country6</td>\n",
       "      <td>None</td>\n",
       "      <td>list3</td>\n",
       "      <td>Thrillers</td>\n",
       "    </tr>\n",
       "    <tr>\n",
       "      <th>158468</th>\n",
       "      <td>s8804</td>\n",
       "      <td>TV Show</td>\n",
       "      <td>Zombie Dumb</td>\n",
       "      <td>NaN</td>\n",
       "      <td>NaN</td>\n",
       "      <td>1-Jul-19</td>\n",
       "      <td>2018</td>\n",
       "      <td>TV-Y7</td>\n",
       "      <td>2 Seasons</td>\n",
       "      <td>While living alone in a spooky town, a young g...</td>\n",
       "      <td>country6</td>\n",
       "      <td>NaN</td>\n",
       "      <td>list3</td>\n",
       "      <td>TV Comedies</td>\n",
       "    </tr>\n",
       "    <tr>\n",
       "      <th>158469</th>\n",
       "      <td>s8805</td>\n",
       "      <td>Movie</td>\n",
       "      <td>Zombieland</td>\n",
       "      <td>Ruben Fleischer</td>\n",
       "      <td>Jesse Eisenberg, Woody Harrelson, Emma Stone, ...</td>\n",
       "      <td>1-Nov-19</td>\n",
       "      <td>2009</td>\n",
       "      <td>R</td>\n",
       "      <td>88 min</td>\n",
       "      <td>Looking to survive in a world taken over by zo...</td>\n",
       "      <td>country6</td>\n",
       "      <td>None</td>\n",
       "      <td>list3</td>\n",
       "      <td>None</td>\n",
       "    </tr>\n",
       "    <tr>\n",
       "      <th>158470</th>\n",
       "      <td>s8806</td>\n",
       "      <td>Movie</td>\n",
       "      <td>Zoom</td>\n",
       "      <td>Peter Hewitt</td>\n",
       "      <td>Tim Allen, Courteney Cox, Chevy Chase, Kate Ma...</td>\n",
       "      <td>11-Jan-20</td>\n",
       "      <td>2006</td>\n",
       "      <td>PG</td>\n",
       "      <td>88 min</td>\n",
       "      <td>Dragged from civilian life, a former superhero...</td>\n",
       "      <td>country6</td>\n",
       "      <td>None</td>\n",
       "      <td>list3</td>\n",
       "      <td>None</td>\n",
       "    </tr>\n",
       "    <tr>\n",
       "      <th>158471</th>\n",
       "      <td>s8807</td>\n",
       "      <td>Movie</td>\n",
       "      <td>Zubaan</td>\n",
       "      <td>Mozez Singh</td>\n",
       "      <td>Vicky Kaushal, Sarah-Jane Dias, Raaghav Chanan...</td>\n",
       "      <td>2-Mar-19</td>\n",
       "      <td>2015</td>\n",
       "      <td>TV-14</td>\n",
       "      <td>111 min</td>\n",
       "      <td>A scrappy but poor boy worms his way into a ty...</td>\n",
       "      <td>country6</td>\n",
       "      <td>None</td>\n",
       "      <td>list3</td>\n",
       "      <td>Music &amp; Musicals</td>\n",
       "    </tr>\n",
       "  </tbody>\n",
       "</table>\n",
       "<p>158472 rows × 14 columns</p>\n",
       "</div>"
      ],
      "text/plain": [
       "       show_id     type                  title         director  \\\n",
       "0           s1    Movie   Dick Johnson Is Dead  Kirsten Johnson   \n",
       "1           s2  TV Show          Blood & Water              NaN   \n",
       "2           s3  TV Show              Ganglands  Julien Leclercq   \n",
       "3           s4  TV Show  Jailbirds New Orleans              NaN   \n",
       "4           s5  TV Show           Kota Factory              NaN   \n",
       "...        ...      ...                    ...              ...   \n",
       "158467   s8803    Movie                 Zodiac    David Fincher   \n",
       "158468   s8804  TV Show            Zombie Dumb              NaN   \n",
       "158469   s8805    Movie             Zombieland  Ruben Fleischer   \n",
       "158470   s8806    Movie                   Zoom     Peter Hewitt   \n",
       "158471   s8807    Movie                 Zubaan      Mozez Singh   \n",
       "\n",
       "                                                     cast date_added  \\\n",
       "0                                                     NaN  25-Sep-21   \n",
       "1       Ama Qamata, Khosi Ngema, Gail Mabalane, Thaban...  24-Sep-21   \n",
       "2       Sami Bouajila, Tracy Gotoas, Samuel Jouy, Nabi...  24-Sep-21   \n",
       "3                                                     NaN  24-Sep-21   \n",
       "4       Mayur More, Jitendra Kumar, Ranjan Raj, Alam K...  24-Sep-21   \n",
       "...                                                   ...        ...   \n",
       "158467  Mark Ruffalo, Jake Gyllenhaal, Robert Downey J...  20-Nov-19   \n",
       "158468                                                NaN   1-Jul-19   \n",
       "158469  Jesse Eisenberg, Woody Harrelson, Emma Stone, ...   1-Nov-19   \n",
       "158470  Tim Allen, Courteney Cox, Chevy Chase, Kate Ma...  11-Jan-20   \n",
       "158471  Vicky Kaushal, Sarah-Jane Dias, Raaghav Chanan...   2-Mar-19   \n",
       "\n",
       "        release_year rating   duration  \\\n",
       "0               2020  PG-13     90 min   \n",
       "1               2021  TV-MA  2 Seasons   \n",
       "2               2021  TV-MA   1 Season   \n",
       "3               2021  TV-MA   1 Season   \n",
       "4               2021  TV-MA  2 Seasons   \n",
       "...              ...    ...        ...   \n",
       "158467          2007      R    158 min   \n",
       "158468          2018  TV-Y7  2 Seasons   \n",
       "158469          2009      R     88 min   \n",
       "158470          2006     PG     88 min   \n",
       "158471          2015  TV-14    111 min   \n",
       "\n",
       "                                              description   country  \\\n",
       "0       As her father nears the end of his life, filmm...  country1   \n",
       "1       After crossing paths at a party, a Cape Town t...  country1   \n",
       "2       To protect his family from a powerful drug lor...  country1   \n",
       "3       Feuds, flirtations and toilet talk go down amo...  country1   \n",
       "4       In a city of coaching centers known to train I...  country1   \n",
       "...                                                   ...       ...   \n",
       "158467  A political cartoonist, a crime reporter and a...  country6   \n",
       "158468  While living alone in a spooky town, a young g...  country6   \n",
       "158469  Looking to survive in a world taken over by zo...  country6   \n",
       "158470  Dragged from civilian life, a former superhero...  country6   \n",
       "158471  A scrappy but poor boy worms his way into a ty...  country6   \n",
       "\n",
       "                value variable              list_value  \n",
       "0       United States    list1           Documentaries  \n",
       "1        South Africa    list1  International TV Shows  \n",
       "2                 NaN    list1          Crime TV Shows  \n",
       "3                 NaN    list1              Docuseries  \n",
       "4               India    list1  International TV Shows  \n",
       "...               ...      ...                     ...  \n",
       "158467           None    list3               Thrillers  \n",
       "158468            NaN    list3             TV Comedies  \n",
       "158469           None    list3                    None  \n",
       "158470           None    list3                    None  \n",
       "158471           None    list3        Music & Musicals  \n",
       "\n",
       "[158472 rows x 14 columns]"
      ]
     },
     "execution_count": 19,
     "metadata": {},
     "output_type": "execute_result"
    }
   ],
   "source": [
    "df"
   ]
  },
  {
   "cell_type": "code",
   "execution_count": 20,
   "metadata": {
    "id": "AAoaS4aCTzQG"
   },
   "outputs": [],
   "source": [
    "movies = df[df['type'] == \"Movie\"]"
   ]
  },
  {
   "cell_type": "code",
   "execution_count": 21,
   "metadata": {
    "id": "_XvwERAlWUXG"
   },
   "outputs": [],
   "source": [
    "TV_Show\t= df[df['type'] == \"TV Show\"]"
   ]
  },
  {
   "cell_type": "code",
   "execution_count": 22,
   "metadata": {
    "id": "R4J4yK_PHiQW"
   },
   "outputs": [],
   "source": [
    "v = TV_Show['duration'].str.split(\" \")"
   ]
  },
  {
   "cell_type": "code",
   "execution_count": null,
   "metadata": {
    "colab": {
     "base_uri": "https://localhost:8080/"
    },
    "id": "v_HcjZmzJ--I",
    "outputId": "395c006a-f461-42f8-bcf5-5a65f2ae32b0"
   },
   "outputs": [],
   "source": [
    "TV_Show['duration_type'] = season"
   ]
  },
  {
   "cell_type": "code",
   "execution_count": null,
   "metadata": {
    "id": "WPPS0LsiZXq1"
   },
   "outputs": [],
   "source": [
    "TV_Show = TV_Show.drop(columns=[\"duration\"])"
   ]
  },
  {
   "cell_type": "code",
   "execution_count": null,
   "metadata": {
    "id": "TBh6Fp2ERhUs"
   },
   "outputs": [],
   "source": [
    "TV_Show['season_number']=TV_Show['season_number'].astype(int)"
   ]
  },
  {
   "cell_type": "code",
   "execution_count": null,
   "metadata": {
    "colab": {
     "base_uri": "https://localhost:8080/",
     "height": 1000
    },
    "id": "lre5Xr4o3R0s",
    "outputId": "8475663a-9134-4c8b-96fe-a9d0c11b9099"
   },
   "outputs": [],
   "source": [
    "movies"
   ]
  },
  {
   "cell_type": "code",
   "execution_count": null,
   "metadata": {
    "id": "Pryl-7deZY-z"
   },
   "outputs": [],
   "source": [
    "b = movies['duration'].str.split(\" \")"
   ]
  },
  {
   "cell_type": "code",
   "execution_count": null,
   "metadata": {
    "colab": {
     "base_uri": "https://localhost:8080/"
    },
    "id": "yH2G91K0d2Fa",
    "outputId": "2ed6bcc9-c0de-48f8-bf15-0e1af4aa8aae"
   },
   "outputs": [],
   "source": [
    "v = []\n",
    "for i in b:\n",
    "    if isinstance(i, list) and len(i) > 1:\n",
    "        try:\n",
    "            value = int(i[0])\n",
    "            v.append(value)\n",
    "        except ValueError:\n",
    "            v.append(None)\n",
    "    else:\n",
    "        v.append(None)\n",
    "print(v)"
   ]
  },
  {
   "cell_type": "code",
   "execution_count": null,
   "metadata": {
    "colab": {
     "base_uri": "https://localhost:8080/"
    },
    "id": "B-d3QD3-ekti",
    "outputId": "812932f4-512f-4f82-f8c5-02eac4452f7b"
   },
   "outputs": [],
   "source": [
    "duration_type = []\n",
    "\n",
    "for i in movies['duration']:\n",
    "    if isinstance(i, str):\n",
    "        parts = i.split()\n",
    "        if len(parts) > 1:\n",
    "            duration_type.append(parts[1])\n",
    "        else:\n",
    "            duration_type.append(None)\n",
    "    else:\n",
    "        duration_type.append(None)\n",
    "print(duration_type)"
   ]
  },
  {
   "cell_type": "code",
   "execution_count": null,
   "metadata": {
    "colab": {
     "base_uri": "https://localhost:8080/"
    },
    "id": "sl2F3BcFb_Q1",
    "outputId": "34994bde-dac6-4ab0-a7f4-5d88f8623b39"
   },
   "outputs": [],
   "source": [
    "movies[\"duration_Time\"] = v"
   ]
  },
  {
   "cell_type": "code",
   "execution_count": null,
   "metadata": {
    "colab": {
     "base_uri": "https://localhost:8080/"
    },
    "id": "PyL73HP-3Psh",
    "outputId": "ee521a27-fdb4-412e-c048-eac09d04e7b9"
   },
   "outputs": [],
   "source": [
    "movies[\"duration_type\"] = duration_type"
   ]
  },
  {
   "cell_type": "code",
   "execution_count": null,
   "metadata": {
    "id": "j8txlAuMSliN"
   },
   "outputs": [],
   "source": [
    "movies = movies.drop(columns=[\"duration\"])"
   ]
  },
  {
   "cell_type": "code",
   "execution_count": null,
   "metadata": {
    "colab": {
     "base_uri": "https://localhost:8080/"
    },
    "id": "8aUNvofA3oGN",
    "outputId": "a0be395c-19c7-452b-9e04-fc7132df9298"
   },
   "outputs": [],
   "source": [
    "movies.info()"
   ]
  },
  {
   "cell_type": "code",
   "execution_count": null,
   "metadata": {
    "colab": {
     "base_uri": "https://localhost:8080/"
    },
    "id": "MoDMb2Xy3oDb",
    "outputId": "06d89040-8b3d-4fa6-aad7-d6c4b138c0df"
   },
   "outputs": [],
   "source": [
    "TV_Show.info()"
   ]
  },
  {
   "cell_type": "code",
   "execution_count": 24,
   "metadata": {
    "colab": {
     "base_uri": "https://localhost:8080/"
    },
    "id": "Jaf2spLSRcsZ",
    "outputId": "12624dfd-3ce3-4a4b-bf86-681b2a3c8124"
   },
   "outputs": [
    {
     "name": "stderr",
     "output_type": "stream",
     "text": [
      "C:\\Users\\ABO-BAKR\\AppData\\Local\\Temp\\ipykernel_15008\\113381035.py:1: UserWarning: Could not infer format, so each element will be parsed individually, falling back to `dateutil`. To ensure parsing is consistent and as-expected, please specify a format.\n",
      "  movies['date_added'] = pd.to_datetime(movies['date_added'])\n",
      "C:\\Users\\ABO-BAKR\\AppData\\Local\\Temp\\ipykernel_15008\\113381035.py:1: SettingWithCopyWarning: \n",
      "A value is trying to be set on a copy of a slice from a DataFrame.\n",
      "Try using .loc[row_indexer,col_indexer] = value instead\n",
      "\n",
      "See the caveats in the documentation: https://pandas.pydata.org/pandas-docs/stable/user_guide/indexing.html#returning-a-view-versus-a-copy\n",
      "  movies['date_added'] = pd.to_datetime(movies['date_added'])\n"
     ]
    }
   ],
   "source": [
    "movies['date_added'] = pd.to_datetime(movies['date_added'])"
   ]
  },
  {
   "cell_type": "code",
   "execution_count": 25,
   "metadata": {
    "colab": {
     "base_uri": "https://localhost:8080/"
    },
    "id": "azVgbsCY_ufQ",
    "outputId": "43317482-7280-4a71-cff2-eef7c368bac7"
   },
   "outputs": [
    {
     "name": "stderr",
     "output_type": "stream",
     "text": [
      "C:\\Users\\ABO-BAKR\\AppData\\Local\\Temp\\ipykernel_15008\\1362412687.py:1: UserWarning: Could not infer format, so each element will be parsed individually, falling back to `dateutil`. To ensure parsing is consistent and as-expected, please specify a format.\n",
      "  TV_Show['date_added'] = pd.to_datetime(TV_Show['date_added'])\n",
      "C:\\Users\\ABO-BAKR\\AppData\\Local\\Temp\\ipykernel_15008\\1362412687.py:1: SettingWithCopyWarning: \n",
      "A value is trying to be set on a copy of a slice from a DataFrame.\n",
      "Try using .loc[row_indexer,col_indexer] = value instead\n",
      "\n",
      "See the caveats in the documentation: https://pandas.pydata.org/pandas-docs/stable/user_guide/indexing.html#returning-a-view-versus-a-copy\n",
      "  TV_Show['date_added'] = pd.to_datetime(TV_Show['date_added'])\n"
     ]
    }
   ],
   "source": [
    "TV_Show['date_added'] = pd.to_datetime(TV_Show['date_added'])"
   ]
  },
  {
   "cell_type": "code",
   "execution_count": 26,
   "metadata": {
    "colab": {
     "base_uri": "https://localhost:8080/",
     "height": 626
    },
    "id": "cQWGVzrVVgmO",
    "outputId": "4d5ce166-e332-4235-d7f9-7c0b4bb0a2b4"
   },
   "outputs": [
    {
     "data": {
      "text/html": [
       "<div>\n",
       "<style scoped>\n",
       "    .dataframe tbody tr th:only-of-type {\n",
       "        vertical-align: middle;\n",
       "    }\n",
       "\n",
       "    .dataframe tbody tr th {\n",
       "        vertical-align: top;\n",
       "    }\n",
       "\n",
       "    .dataframe thead th {\n",
       "        text-align: right;\n",
       "    }\n",
       "</style>\n",
       "<table border=\"1\" class=\"dataframe\">\n",
       "  <thead>\n",
       "    <tr style=\"text-align: right;\">\n",
       "      <th></th>\n",
       "      <th>show_id</th>\n",
       "      <th>type</th>\n",
       "      <th>title</th>\n",
       "      <th>director</th>\n",
       "      <th>cast</th>\n",
       "      <th>date_added</th>\n",
       "      <th>release_year</th>\n",
       "      <th>rating</th>\n",
       "      <th>duration</th>\n",
       "      <th>description</th>\n",
       "      <th>country</th>\n",
       "      <th>value</th>\n",
       "      <th>variable</th>\n",
       "      <th>list_value</th>\n",
       "    </tr>\n",
       "  </thead>\n",
       "  <tbody>\n",
       "    <tr>\n",
       "      <th>0</th>\n",
       "      <td>s1</td>\n",
       "      <td>Movie</td>\n",
       "      <td>Dick Johnson Is Dead</td>\n",
       "      <td>Kirsten Johnson</td>\n",
       "      <td>NaN</td>\n",
       "      <td>2021-09-25</td>\n",
       "      <td>2020</td>\n",
       "      <td>PG-13</td>\n",
       "      <td>90 min</td>\n",
       "      <td>As her father nears the end of his life, filmm...</td>\n",
       "      <td>country1</td>\n",
       "      <td>United States</td>\n",
       "      <td>list1</td>\n",
       "      <td>Documentaries</td>\n",
       "    </tr>\n",
       "    <tr>\n",
       "      <th>6</th>\n",
       "      <td>s7</td>\n",
       "      <td>Movie</td>\n",
       "      <td>My Little Pony: A New Generation</td>\n",
       "      <td>Robert Cullen, José Luis Ucha</td>\n",
       "      <td>Vanessa Hudgens, Kimiko Glenn, James Marsden, ...</td>\n",
       "      <td>2021-09-24</td>\n",
       "      <td>2021</td>\n",
       "      <td>PG</td>\n",
       "      <td>91 min</td>\n",
       "      <td>Equestria's divided. But a bright-eyed hero be...</td>\n",
       "      <td>country1</td>\n",
       "      <td>NaN</td>\n",
       "      <td>list1</td>\n",
       "      <td>Children &amp; Family Movies</td>\n",
       "    </tr>\n",
       "    <tr>\n",
       "      <th>7</th>\n",
       "      <td>s8</td>\n",
       "      <td>Movie</td>\n",
       "      <td>Sankofa</td>\n",
       "      <td>Haile Gerima</td>\n",
       "      <td>Kofi Ghanaba, Oyafunmike Ogunlano, Alexandra D...</td>\n",
       "      <td>2021-09-24</td>\n",
       "      <td>1993</td>\n",
       "      <td>TV-MA</td>\n",
       "      <td>125 min</td>\n",
       "      <td>On a photo shoot in Ghana, an American model s...</td>\n",
       "      <td>country1</td>\n",
       "      <td>United States</td>\n",
       "      <td>list1</td>\n",
       "      <td>Dramas</td>\n",
       "    </tr>\n",
       "    <tr>\n",
       "      <th>9</th>\n",
       "      <td>s10</td>\n",
       "      <td>Movie</td>\n",
       "      <td>The Starling</td>\n",
       "      <td>Theodore Melfi</td>\n",
       "      <td>Melissa McCarthy, Chris O'Dowd, Kevin Kline, T...</td>\n",
       "      <td>2021-09-24</td>\n",
       "      <td>2021</td>\n",
       "      <td>PG-13</td>\n",
       "      <td>104 min</td>\n",
       "      <td>A woman adjusting to life after a loss contend...</td>\n",
       "      <td>country1</td>\n",
       "      <td>United States</td>\n",
       "      <td>list1</td>\n",
       "      <td>Comedies</td>\n",
       "    </tr>\n",
       "    <tr>\n",
       "      <th>12</th>\n",
       "      <td>s13</td>\n",
       "      <td>Movie</td>\n",
       "      <td>Je Suis Karl</td>\n",
       "      <td>Christian Schwochow</td>\n",
       "      <td>Luna Wedler, Jannis Niewöhner, Milan Peschel, ...</td>\n",
       "      <td>2021-09-23</td>\n",
       "      <td>2021</td>\n",
       "      <td>TV-MA</td>\n",
       "      <td>127 min</td>\n",
       "      <td>After most of her family is murdered in a terr...</td>\n",
       "      <td>country1</td>\n",
       "      <td>Germany</td>\n",
       "      <td>list1</td>\n",
       "      <td>Dramas</td>\n",
       "    </tr>\n",
       "  </tbody>\n",
       "</table>\n",
       "</div>"
      ],
      "text/plain": [
       "   show_id   type                             title  \\\n",
       "0       s1  Movie              Dick Johnson Is Dead   \n",
       "6       s7  Movie  My Little Pony: A New Generation   \n",
       "7       s8  Movie                           Sankofa   \n",
       "9      s10  Movie                      The Starling   \n",
       "12     s13  Movie                      Je Suis Karl   \n",
       "\n",
       "                         director  \\\n",
       "0                 Kirsten Johnson   \n",
       "6   Robert Cullen, José Luis Ucha   \n",
       "7                    Haile Gerima   \n",
       "9                  Theodore Melfi   \n",
       "12            Christian Schwochow   \n",
       "\n",
       "                                                 cast date_added  \\\n",
       "0                                                 NaN 2021-09-25   \n",
       "6   Vanessa Hudgens, Kimiko Glenn, James Marsden, ... 2021-09-24   \n",
       "7   Kofi Ghanaba, Oyafunmike Ogunlano, Alexandra D... 2021-09-24   \n",
       "9   Melissa McCarthy, Chris O'Dowd, Kevin Kline, T... 2021-09-24   \n",
       "12  Luna Wedler, Jannis Niewöhner, Milan Peschel, ... 2021-09-23   \n",
       "\n",
       "    release_year rating duration  \\\n",
       "0           2020  PG-13   90 min   \n",
       "6           2021     PG   91 min   \n",
       "7           1993  TV-MA  125 min   \n",
       "9           2021  PG-13  104 min   \n",
       "12          2021  TV-MA  127 min   \n",
       "\n",
       "                                          description   country  \\\n",
       "0   As her father nears the end of his life, filmm...  country1   \n",
       "6   Equestria's divided. But a bright-eyed hero be...  country1   \n",
       "7   On a photo shoot in Ghana, an American model s...  country1   \n",
       "9   A woman adjusting to life after a loss contend...  country1   \n",
       "12  After most of her family is murdered in a terr...  country1   \n",
       "\n",
       "            value variable                list_value  \n",
       "0   United States    list1             Documentaries  \n",
       "6             NaN    list1  Children & Family Movies  \n",
       "7   United States    list1                    Dramas  \n",
       "9   United States    list1                  Comedies  \n",
       "12        Germany    list1                    Dramas  "
      ]
     },
     "execution_count": 26,
     "metadata": {},
     "output_type": "execute_result"
    }
   ],
   "source": [
    "movies.head()"
   ]
  },
  {
   "cell_type": "code",
   "execution_count": 27,
   "metadata": {
    "colab": {
     "base_uri": "https://localhost:8080/",
     "height": 1000
    },
    "id": "x1SjZT0bL6Lm",
    "outputId": "0ff55853-4d2f-4e13-9656-fb17ba640802"
   },
   "outputs": [
    {
     "data": {
      "text/html": [
       "<div>\n",
       "<style scoped>\n",
       "    .dataframe tbody tr th:only-of-type {\n",
       "        vertical-align: middle;\n",
       "    }\n",
       "\n",
       "    .dataframe tbody tr th {\n",
       "        vertical-align: top;\n",
       "    }\n",
       "\n",
       "    .dataframe thead th {\n",
       "        text-align: right;\n",
       "    }\n",
       "</style>\n",
       "<table border=\"1\" class=\"dataframe\">\n",
       "  <thead>\n",
       "    <tr style=\"text-align: right;\">\n",
       "      <th></th>\n",
       "      <th>show_id</th>\n",
       "      <th>type</th>\n",
       "      <th>title</th>\n",
       "      <th>director</th>\n",
       "      <th>cast</th>\n",
       "      <th>date_added</th>\n",
       "      <th>release_year</th>\n",
       "      <th>rating</th>\n",
       "      <th>duration</th>\n",
       "      <th>description</th>\n",
       "      <th>country</th>\n",
       "      <th>value</th>\n",
       "      <th>variable</th>\n",
       "      <th>list_value</th>\n",
       "    </tr>\n",
       "  </thead>\n",
       "  <tbody>\n",
       "    <tr>\n",
       "      <th>0</th>\n",
       "      <td>s1</td>\n",
       "      <td>Movie</td>\n",
       "      <td>Dick Johnson Is Dead</td>\n",
       "      <td>Kirsten Johnson</td>\n",
       "      <td>NaN</td>\n",
       "      <td>2021-09-25</td>\n",
       "      <td>2020</td>\n",
       "      <td>PG-13</td>\n",
       "      <td>90 min</td>\n",
       "      <td>As her father nears the end of his life, filmm...</td>\n",
       "      <td>country1</td>\n",
       "      <td>United States</td>\n",
       "      <td>list1</td>\n",
       "      <td>Documentaries</td>\n",
       "    </tr>\n",
       "    <tr>\n",
       "      <th>6</th>\n",
       "      <td>s7</td>\n",
       "      <td>Movie</td>\n",
       "      <td>My Little Pony: A New Generation</td>\n",
       "      <td>Robert Cullen, José Luis Ucha</td>\n",
       "      <td>Vanessa Hudgens, Kimiko Glenn, James Marsden, ...</td>\n",
       "      <td>2021-09-24</td>\n",
       "      <td>2021</td>\n",
       "      <td>PG</td>\n",
       "      <td>91 min</td>\n",
       "      <td>Equestria's divided. But a bright-eyed hero be...</td>\n",
       "      <td>country1</td>\n",
       "      <td>NaN</td>\n",
       "      <td>list1</td>\n",
       "      <td>Children &amp; Family Movies</td>\n",
       "    </tr>\n",
       "    <tr>\n",
       "      <th>7</th>\n",
       "      <td>s8</td>\n",
       "      <td>Movie</td>\n",
       "      <td>Sankofa</td>\n",
       "      <td>Haile Gerima</td>\n",
       "      <td>Kofi Ghanaba, Oyafunmike Ogunlano, Alexandra D...</td>\n",
       "      <td>2021-09-24</td>\n",
       "      <td>1993</td>\n",
       "      <td>TV-MA</td>\n",
       "      <td>125 min</td>\n",
       "      <td>On a photo shoot in Ghana, an American model s...</td>\n",
       "      <td>country1</td>\n",
       "      <td>United States</td>\n",
       "      <td>list1</td>\n",
       "      <td>Dramas</td>\n",
       "    </tr>\n",
       "    <tr>\n",
       "      <th>9</th>\n",
       "      <td>s10</td>\n",
       "      <td>Movie</td>\n",
       "      <td>The Starling</td>\n",
       "      <td>Theodore Melfi</td>\n",
       "      <td>Melissa McCarthy, Chris O'Dowd, Kevin Kline, T...</td>\n",
       "      <td>2021-09-24</td>\n",
       "      <td>2021</td>\n",
       "      <td>PG-13</td>\n",
       "      <td>104 min</td>\n",
       "      <td>A woman adjusting to life after a loss contend...</td>\n",
       "      <td>country1</td>\n",
       "      <td>United States</td>\n",
       "      <td>list1</td>\n",
       "      <td>Comedies</td>\n",
       "    </tr>\n",
       "    <tr>\n",
       "      <th>12</th>\n",
       "      <td>s13</td>\n",
       "      <td>Movie</td>\n",
       "      <td>Je Suis Karl</td>\n",
       "      <td>Christian Schwochow</td>\n",
       "      <td>Luna Wedler, Jannis Niewöhner, Milan Peschel, ...</td>\n",
       "      <td>2021-09-23</td>\n",
       "      <td>2021</td>\n",
       "      <td>TV-MA</td>\n",
       "      <td>127 min</td>\n",
       "      <td>After most of her family is murdered in a terr...</td>\n",
       "      <td>country1</td>\n",
       "      <td>Germany</td>\n",
       "      <td>list1</td>\n",
       "      <td>Dramas</td>\n",
       "    </tr>\n",
       "    <tr>\n",
       "      <th>...</th>\n",
       "      <td>...</td>\n",
       "      <td>...</td>\n",
       "      <td>...</td>\n",
       "      <td>...</td>\n",
       "      <td>...</td>\n",
       "      <td>...</td>\n",
       "      <td>...</td>\n",
       "      <td>...</td>\n",
       "      <td>...</td>\n",
       "      <td>...</td>\n",
       "      <td>...</td>\n",
       "      <td>...</td>\n",
       "      <td>...</td>\n",
       "      <td>...</td>\n",
       "    </tr>\n",
       "    <tr>\n",
       "      <th>158466</th>\n",
       "      <td>s8802</td>\n",
       "      <td>Movie</td>\n",
       "      <td>Zinzana</td>\n",
       "      <td>Majid Al Ansari</td>\n",
       "      <td>Ali Suliman, Saleh Bakri, Yasa, Ali Al-Jabri, ...</td>\n",
       "      <td>2016-03-09</td>\n",
       "      <td>2015</td>\n",
       "      <td>TV-MA</td>\n",
       "      <td>96 min</td>\n",
       "      <td>Recovering alcoholic Talal wakes up inside a s...</td>\n",
       "      <td>country6</td>\n",
       "      <td>None</td>\n",
       "      <td>list3</td>\n",
       "      <td>Thrillers</td>\n",
       "    </tr>\n",
       "    <tr>\n",
       "      <th>158467</th>\n",
       "      <td>s8803</td>\n",
       "      <td>Movie</td>\n",
       "      <td>Zodiac</td>\n",
       "      <td>David Fincher</td>\n",
       "      <td>Mark Ruffalo, Jake Gyllenhaal, Robert Downey J...</td>\n",
       "      <td>2019-11-20</td>\n",
       "      <td>2007</td>\n",
       "      <td>R</td>\n",
       "      <td>158 min</td>\n",
       "      <td>A political cartoonist, a crime reporter and a...</td>\n",
       "      <td>country6</td>\n",
       "      <td>None</td>\n",
       "      <td>list3</td>\n",
       "      <td>Thrillers</td>\n",
       "    </tr>\n",
       "    <tr>\n",
       "      <th>158469</th>\n",
       "      <td>s8805</td>\n",
       "      <td>Movie</td>\n",
       "      <td>Zombieland</td>\n",
       "      <td>Ruben Fleischer</td>\n",
       "      <td>Jesse Eisenberg, Woody Harrelson, Emma Stone, ...</td>\n",
       "      <td>2019-11-01</td>\n",
       "      <td>2009</td>\n",
       "      <td>R</td>\n",
       "      <td>88 min</td>\n",
       "      <td>Looking to survive in a world taken over by zo...</td>\n",
       "      <td>country6</td>\n",
       "      <td>None</td>\n",
       "      <td>list3</td>\n",
       "      <td>None</td>\n",
       "    </tr>\n",
       "    <tr>\n",
       "      <th>158470</th>\n",
       "      <td>s8806</td>\n",
       "      <td>Movie</td>\n",
       "      <td>Zoom</td>\n",
       "      <td>Peter Hewitt</td>\n",
       "      <td>Tim Allen, Courteney Cox, Chevy Chase, Kate Ma...</td>\n",
       "      <td>2020-01-11</td>\n",
       "      <td>2006</td>\n",
       "      <td>PG</td>\n",
       "      <td>88 min</td>\n",
       "      <td>Dragged from civilian life, a former superhero...</td>\n",
       "      <td>country6</td>\n",
       "      <td>None</td>\n",
       "      <td>list3</td>\n",
       "      <td>None</td>\n",
       "    </tr>\n",
       "    <tr>\n",
       "      <th>158471</th>\n",
       "      <td>s8807</td>\n",
       "      <td>Movie</td>\n",
       "      <td>Zubaan</td>\n",
       "      <td>Mozez Singh</td>\n",
       "      <td>Vicky Kaushal, Sarah-Jane Dias, Raaghav Chanan...</td>\n",
       "      <td>2019-03-02</td>\n",
       "      <td>2015</td>\n",
       "      <td>TV-14</td>\n",
       "      <td>111 min</td>\n",
       "      <td>A scrappy but poor boy worms his way into a ty...</td>\n",
       "      <td>country6</td>\n",
       "      <td>None</td>\n",
       "      <td>list3</td>\n",
       "      <td>Music &amp; Musicals</td>\n",
       "    </tr>\n",
       "  </tbody>\n",
       "</table>\n",
       "<p>110322 rows × 14 columns</p>\n",
       "</div>"
      ],
      "text/plain": [
       "       show_id   type                             title  \\\n",
       "0           s1  Movie              Dick Johnson Is Dead   \n",
       "6           s7  Movie  My Little Pony: A New Generation   \n",
       "7           s8  Movie                           Sankofa   \n",
       "9          s10  Movie                      The Starling   \n",
       "12         s13  Movie                      Je Suis Karl   \n",
       "...        ...    ...                               ...   \n",
       "158466   s8802  Movie                           Zinzana   \n",
       "158467   s8803  Movie                            Zodiac   \n",
       "158469   s8805  Movie                        Zombieland   \n",
       "158470   s8806  Movie                              Zoom   \n",
       "158471   s8807  Movie                            Zubaan   \n",
       "\n",
       "                             director  \\\n",
       "0                     Kirsten Johnson   \n",
       "6       Robert Cullen, José Luis Ucha   \n",
       "7                        Haile Gerima   \n",
       "9                      Theodore Melfi   \n",
       "12                Christian Schwochow   \n",
       "...                               ...   \n",
       "158466                Majid Al Ansari   \n",
       "158467                  David Fincher   \n",
       "158469                Ruben Fleischer   \n",
       "158470                   Peter Hewitt   \n",
       "158471                    Mozez Singh   \n",
       "\n",
       "                                                     cast date_added  \\\n",
       "0                                                     NaN 2021-09-25   \n",
       "6       Vanessa Hudgens, Kimiko Glenn, James Marsden, ... 2021-09-24   \n",
       "7       Kofi Ghanaba, Oyafunmike Ogunlano, Alexandra D... 2021-09-24   \n",
       "9       Melissa McCarthy, Chris O'Dowd, Kevin Kline, T... 2021-09-24   \n",
       "12      Luna Wedler, Jannis Niewöhner, Milan Peschel, ... 2021-09-23   \n",
       "...                                                   ...        ...   \n",
       "158466  Ali Suliman, Saleh Bakri, Yasa, Ali Al-Jabri, ... 2016-03-09   \n",
       "158467  Mark Ruffalo, Jake Gyllenhaal, Robert Downey J... 2019-11-20   \n",
       "158469  Jesse Eisenberg, Woody Harrelson, Emma Stone, ... 2019-11-01   \n",
       "158470  Tim Allen, Courteney Cox, Chevy Chase, Kate Ma... 2020-01-11   \n",
       "158471  Vicky Kaushal, Sarah-Jane Dias, Raaghav Chanan... 2019-03-02   \n",
       "\n",
       "        release_year rating duration  \\\n",
       "0               2020  PG-13   90 min   \n",
       "6               2021     PG   91 min   \n",
       "7               1993  TV-MA  125 min   \n",
       "9               2021  PG-13  104 min   \n",
       "12              2021  TV-MA  127 min   \n",
       "...              ...    ...      ...   \n",
       "158466          2015  TV-MA   96 min   \n",
       "158467          2007      R  158 min   \n",
       "158469          2009      R   88 min   \n",
       "158470          2006     PG   88 min   \n",
       "158471          2015  TV-14  111 min   \n",
       "\n",
       "                                              description   country  \\\n",
       "0       As her father nears the end of his life, filmm...  country1   \n",
       "6       Equestria's divided. But a bright-eyed hero be...  country1   \n",
       "7       On a photo shoot in Ghana, an American model s...  country1   \n",
       "9       A woman adjusting to life after a loss contend...  country1   \n",
       "12      After most of her family is murdered in a terr...  country1   \n",
       "...                                                   ...       ...   \n",
       "158466  Recovering alcoholic Talal wakes up inside a s...  country6   \n",
       "158467  A political cartoonist, a crime reporter and a...  country6   \n",
       "158469  Looking to survive in a world taken over by zo...  country6   \n",
       "158470  Dragged from civilian life, a former superhero...  country6   \n",
       "158471  A scrappy but poor boy worms his way into a ty...  country6   \n",
       "\n",
       "                value variable                list_value  \n",
       "0       United States    list1             Documentaries  \n",
       "6                 NaN    list1  Children & Family Movies  \n",
       "7       United States    list1                    Dramas  \n",
       "9       United States    list1                  Comedies  \n",
       "12            Germany    list1                    Dramas  \n",
       "...               ...      ...                       ...  \n",
       "158466           None    list3                 Thrillers  \n",
       "158467           None    list3                 Thrillers  \n",
       "158469           None    list3                      None  \n",
       "158470           None    list3                      None  \n",
       "158471           None    list3          Music & Musicals  \n",
       "\n",
       "[110322 rows x 14 columns]"
      ]
     },
     "execution_count": 27,
     "metadata": {},
     "output_type": "execute_result"
    }
   ],
   "source": [
    "movies.drop_duplicates()"
   ]
  },
  {
   "cell_type": "code",
   "execution_count": 28,
   "metadata": {
    "id": "j6IXoAI39etQ"
   },
   "outputs": [],
   "source": [
    "df_unique = df.drop_duplicates(subset = \"show_id\")"
   ]
  },
  {
   "cell_type": "markdown",
   "metadata": {
    "id": "UlDukZVbD0N2"
   },
   "source": [
    "# Data analysis"
   ]
  },
  {
   "cell_type": "markdown",
   "metadata": {
    "id": "qNLIMLLTdPnq"
   },
   "source": [
    "##Comparison between movies and Tv_Shows"
   ]
  },
  {
   "cell_type": "code",
   "execution_count": 32,
   "metadata": {
    "colab": {
     "base_uri": "https://localhost:8080/",
     "height": 591
    },
    "id": "N5vBDrpN9eoR",
    "outputId": "e1fa6f34-842a-4c61-b305-a72b3261ff44"
   },
   "outputs": [
    {
     "data": {
      "image/png": "[encoded data removed]",
      "text/plain": [
       "<Figure size 1200x600 with 1 Axes>"
      ]
     },
     "metadata": {},
     "output_type": "display_data"
    }
   ],
   "source": [
    "plt.figure(figsize=(12, 6))\n",
    "df_unique['type'].value_counts().plot(kind='bar',color='blue',grid=True)\n",
    "plt.title('Comparison between movies and Tv_Shows', fontsize=14)\n",
    "plt.xlabel('Type')\n",
    "plt.ylabel('Number of Works')\n",
    "plt.xticks(rotation=45)\n",
    "plt.tight_layout()\n",
    "plt.show()"
   ]
  },
  {
   "cell_type": "markdown",
   "metadata": {
    "id": "93MTcT48dV_i"
   },
   "source": [
    "##Top 10 Directors by Works"
   ]
  },
  {
   "cell_type": "code",
   "execution_count": 38,
   "metadata": {
    "colab": {
     "base_uri": "https://localhost:8080/",
     "height": 591
    },
    "id": "8S7XRNMH9el9",
    "outputId": "2fdc8a4f-b606-4edd-d7c9-5891c0b3f89f"
   },
   "outputs": [
    {
     "data": {
      "image/png": "[encoded data removed]",
      "text/plain": [
       "<Figure size 1200x600 with 1 Axes>"
      ]
     },
     "metadata": {},
     "output_type": "display_data"
    }
   ],
   "source": [
    "plt.figure(figsize=(12, 6))\n",
    "df_unique['director'].value_counts().head(10).plot(kind='barh',color='black',grid=True)\n",
    "plt.title('Top 7 Directors by Works on Netflix', fontsize=14)\n",
    "plt.xlabel('Number of Works')\n",
    "plt.ylabel('director')\n",
    "plt.xlim=(0,20)\n",
    "plt.xticks(rotation=45)\n",
    "plt.tight_layout()\n",
    "plt.show()"
   ]
  },
  {
   "cell_type": "code",
   "execution_count": 39,
   "metadata": {
    "colab": {
     "base_uri": "https://localhost:8080/",
     "height": 591
    },
    "id": "nMm6uwDt9eje",
    "outputId": "4fdfe041-2056-4a34-836e-a235d72d3daf"
   },
   "outputs": [
    {
     "data": {
      "image/png": "[encoded data removed]",
      "text/plain": [
       "<Figure size 1200x600 with 1 Axes>"
      ]
     },
     "metadata": {},
     "output_type": "display_data"
    }
   ],
   "source": [
    "plt.figure(figsize=(12, 6))\n",
    "df_unique['release_year'].value_counts().sort_index().plot(kind='line',color='black',grid=True)\n",
    "plt.title('Works by Year on Netflix', fontsize=14)\n",
    "plt.xlabel('year')\n",
    "plt.ylabel('Number of works')\n",
    "plt.xlim=(0,20)\n",
    "plt.xticks(rotation=45)\n",
    "plt.tight_layout()\n",
    "plt.show()"
   ]
  },
  {
   "cell_type": "code",
   "execution_count": 40,
   "metadata": {
    "colab": {
     "base_uri": "https://localhost:8080/",
     "height": 591
    },
    "id": "uP19Y4xY5QbX",
    "outputId": "f590fbc1-e220-473d-f1af-b085f60e39b8"
   },
   "outputs": [
    {
     "data": {
      "image/png": "[encoded data removed]",
      "text/plain": [
       "<Figure size 1200x600 with 1 Axes>"
      ]
     },
     "metadata": {},
     "output_type": "display_data"
    }
   ],
   "source": [
    "plt.figure(figsize=(12, 6))\n",
    "TV_Show['list_value'].value_counts().head(10).sort_values().plot(kind='barh',color='black',grid=True)\n",
    "plt.title('Top 10 categories by TV_Shows', fontsize=14)\n",
    "plt.xlabel('Number of TV_Shows')\n",
    "plt.ylabel('category')\n",
    "plt.xticks(rotation=45)\n",
    "plt.tight_layout()\n",
    "plt.show()"
   ]
  },
  {
   "cell_type": "code",
   "execution_count": null,
   "metadata": {},
   "outputs": [],
   "source": []
  },
  {
   "cell_type": "code",
   "execution_count": null,
   "metadata": {},
   "outputs": [],
   "source": []
  },
  {
   "cell_type": "code",
   "execution_count": null,
   "metadata": {},
   "outputs": [],
   "source": []
  }
 ],
 "metadata": {
  "colab": {
   "provenance": []
  },
  "kernelspec": {
   "display_name": "Python 3 (ipykernel)",
   "language": "python",
   "name": "python3"
  },
  "language_info": {
   "codemirror_mode": {
    "name": "ipython",
    "version": 3
   },
   "file_extension": ".py",
   "mimetype": "text/x-python",
   "name": "python",
   "nbconvert_exporter": "python",
   "pygments_lexer": "ipython3",
   "version": "3.11.7"
  }
 },
 "nbformat": 4,
 "nbformat_minor": 4
}
